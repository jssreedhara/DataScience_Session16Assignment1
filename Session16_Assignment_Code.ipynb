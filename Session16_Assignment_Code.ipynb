{
 "cells": [
  {
   "cell_type": "code",
   "execution_count": 173,
   "metadata": {},
   "outputs": [
    {
     "name": "stdout",
     "output_type": "stream",
     "text": [
      "Chances of getting wrong answer is  75.0\n",
      "Chances of getting right answer is  25.0\n",
      " \n",
      "Fist Mathametical Solution - Start\n",
      "Formula to calcuate :20C5 * 1/4 to the power of 15 * 3/4 to the power of 5 \n",
      "Probabalities of Getting 5 questions wrong using mathametical solution  is 0.0000034265\n",
      "Fist Mathametical Solution - end\n",
      " \n",
      "Second Solution using SCIPY Lib - Start\n",
      "Probabalities of Getting 5 questions wrong using SCIPY(binom.pmf) is 0.0000034265\n",
      "Second Solution using SCIPY Lib -End\n"
     ]
    }
   ],
   "source": [
    "# Session 16 - Statistics-- 2 by Sreedhara Jagatagar  Sreenivasa\n",
    "\n",
    "#Problem Statement 1: \n",
    "#A test is conducted which is consisting of 20 MCQs (multiple choices questions) with every MCQ having its four \n",
    "#options out of which only one is correct. Determine the probability that a person undertaking that test has \n",
    "#answered exactly 5 questions wrong.\n",
    "\n",
    "import numpy as np\n",
    "from scipy.stats import binom\n",
    "import scipy as sci\n",
    "import math as mth\n",
    "import matplotlib.pyplot as plt\n",
    "import pandas as pd\n",
    "\n",
    "#Define Variables and store the values\n",
    "num_of_trial=20\n",
    "chances_Wrong=3/4 ## 4 Chances of getting wrong answer is 75%\n",
    "chances_correct=1/4  ## Chances of right Answer is 25%\n",
    "\n",
    "print('Chances of getting wrong answer is ',chances_Wrong*100 )\n",
    "print('Chances of getting right answer is ',chances_correct*100 )\n",
    "print(' ')\n",
    "\n",
    "print ('Fist Mathametical Solution - Start')\n",
    "#1st Solution through Mathemetical Method\n",
    "#Print Formula to calcualte probabalities for 5 questions wrong with 75% chances\n",
    "print('Formula to calcuate :20C5 * 1/4 to the power of 15 * 3/4 to the power of 5 ')\n",
    "\n",
    "\n",
    "#Calculate the Probabaliits in which 5 questions are wrong with \n",
    "p_5_wrong=((20*19*18*17*16)/(5*4*3*2*1)) * mth.pow(1/4,15) * mth.pow(3/4,5)\n",
    "\n",
    "#Print the probabalitis  mathametical solution\n",
    "print('Probabalities of Getting 5 questions wrong using mathametical solution  is {0:.10f}'.format(p_5_wrong))\n",
    "print ('Fist Mathametical Solution - end')\n",
    "print(' ')\n",
    "\n",
    "print('Second Solution using SCIPY Lib - Start')\n",
    "#2nd SOlution Through using SCIPY Libraray\n",
    "p_5_wrong=binom.pmf(5,num_of_trial,chances_Wrong)\n",
    "\n",
    "#Print the probalitis which is calcuated using \n",
    "print('Probabalities of Getting 5 questions wrong using SCIPY(binom.pmf) is {0:.10f}'.format(p_5_wrong))\n",
    "print('Second Solution using SCIPY Lib -End')"
   ]
  },
  {
   "cell_type": "code",
   "execution_count": 175,
   "metadata": {},
   "outputs": [
    {
     "name": "stdout",
     "output_type": "stream",
     "text": [
      "Chances of getting D is  20.0\n",
      "Chances of not getting D is  80.0\n",
      " \n",
      "Fist Mathametical Solution - Start\n",
      "Formula to calcuate \"D\" 5 times : 50C5 * 1/5 to the power of 5 * 4/5 to the power of 45 \n",
      "Probabalities of Getting D 5 times using mathametical solution  is 0.0295312043\n",
      "Fist Mathametical Solution - End\n",
      " \n",
      "Second Solution using SCIPY Lib - Start\n",
      "Probabalities of Getting D times using SCIPY(binom.pmf) is 0.0295312043\n",
      "Second Solution using SCIPY Lib - End\n"
     ]
    }
   ],
   "source": [
    "# Session 16 - Statistics-- 2 by Sreedhara Jagatagar  Sreenivasa\n",
    "\n",
    "#Problem Statement 2: \n",
    "#A die marked A to E is rolled 50 times. Find the probability of getting a “D” exactly 5 times. \n",
    "\n",
    "#Define Variables and store the values\n",
    "num_of_trial=50\n",
    "chances_of_D=1/5       # A,B,C,D,E  - Chances of getting D\n",
    "chances_of_Other=4/5   # A,B,C,D,E  - Chances of not getting D \n",
    "\n",
    "#Calcuate and printe chances of getting D and NON D\n",
    "print('Chances of getting D is ',chances_of_D*100 )\n",
    "print('Chances of not getting D is ',chances_of_Other*100 )\n",
    "print(' ')\n",
    "\n",
    "print ('Fist Mathametical Solution - Start')\n",
    "#1st Solution through Mathemetical Method\n",
    "#Print Formula to calcualte probabalities of getting 5 \"D\"  with 20% chances\n",
    "print('Formula to calcuate \"D\" 5 times : 50C5 * 1/5 to the power of 5 * 4/5 to the power of 45 ')\n",
    "\n",
    "#Calculate the Probabaliits to get \"D\" 5 times \n",
    "p_5_D=((50*49*48*47*46)/(5*4*3*2*1)) * mth.pow(1/5,5) * mth.pow(4/5,45)\n",
    "\n",
    "#Print the probabalitis  mathametical solution\n",
    "print('Probabalities of Getting D 5 times using mathametical solution  is {0:.10f}'.format(p_5_D))\n",
    "print ('Fist Mathametical Solution - End')\n",
    "print(' ')\n",
    "\n",
    "print('Second Solution using SCIPY Lib - Start')\n",
    "#2nd SOlution Through using SCIPY Libraray\n",
    "p_5_D=binom.pmf(5,num_of_trial,chances_of_D)\n",
    "\n",
    "#Print the probalitis which is calcuated using SCIPY\n",
    "print('Probabalities of Getting D times using SCIPY(binom.pmf) is {0:.10f}'.format(p_5_D))\n",
    "print('Second Solution using SCIPY Lib - End')"
   ]
  },
  {
   "cell_type": "code",
   "execution_count": 176,
   "metadata": {},
   "outputs": [
    {
     "name": "stdout",
     "output_type": "stream",
     "text": [
      "\"R\" Means RED and \"B\" Means Black\n"
     ]
    },
    {
     "data": {
      "text/html": [
       "<div>\n",
       "<style scoped>\n",
       "    .dataframe tbody tr th:only-of-type {\n",
       "        vertical-align: middle;\n",
       "    }\n",
       "\n",
       "    .dataframe tbody tr th {\n",
       "        vertical-align: top;\n",
       "    }\n",
       "\n",
       "    .dataframe thead th {\n",
       "        text-align: right;\n",
       "    }\n",
       "</style>\n",
       "<table border=\"1\" class=\"dataframe\">\n",
       "  <thead>\n",
       "    <tr style=\"text-align: right;\">\n",
       "      <th></th>\n",
       "      <th>Possibitlis</th>\n",
       "      <th>Probabalities</th>\n",
       "    </tr>\n",
       "  </thead>\n",
       "  <tbody>\n",
       "    <tr>\n",
       "      <th>0</th>\n",
       "      <td>RR</td>\n",
       "      <td>0.133333</td>\n",
       "    </tr>\n",
       "    <tr>\n",
       "      <th>1</th>\n",
       "      <td>RB</td>\n",
       "      <td>0.266667</td>\n",
       "    </tr>\n",
       "    <tr>\n",
       "      <th>2</th>\n",
       "      <td>BR</td>\n",
       "      <td>0.266667</td>\n",
       "    </tr>\n",
       "    <tr>\n",
       "      <th>3</th>\n",
       "      <td>BB</td>\n",
       "      <td>0.333333</td>\n",
       "    </tr>\n",
       "  </tbody>\n",
       "</table>\n",
       "</div>"
      ],
      "text/plain": [
       "  Possibitlis  Probabalities\n",
       "0          RR       0.133333\n",
       "1          RB       0.266667\n",
       "2          BR       0.266667\n",
       "3          BB       0.333333"
      ]
     },
     "execution_count": 176,
     "metadata": {},
     "output_type": "execute_result"
    }
   ],
   "source": [
    "# Session 16 - Statistics-- 2 by Sreedhara Jagatagar  Sreenivasa\n",
    "\n",
    "#Problem Statement 3: \n",
    "#Two balls are drawn at random in succession without replacement from an urn containing 4 red balls \n",
    "#and 6 black balls.  #Find the probabilities of all the possible outcomes. \n",
    "\n",
    "#1st Solution using Matchmetical R is Red and B black\n",
    "RR_Possibilitis=(4/10)*(3/9)\n",
    "RB_possibilitis=(4/10)*(6/9)\n",
    "BR_Possibiltiis=(6/10)*(4/9)\n",
    "BB_Possibiliits=(6/10)*(5/9)\n",
    "\n",
    "print('\"R\" Means RED and \"B\" Means Black')\n",
    "\n",
    "df_prob_events=pd.DataFrame({'Possibitlis':['RR','RB','BR','BB'],\n",
    "                'Probabalities':[RR_Possibilitis,RB_possibilitis,BR_Possibiltiis,BB_Possibiliits]})\n",
    "df_prob_events"
   ]
  },
  {
   "cell_type": "code",
   "execution_count": 182,
   "metadata": {},
   "outputs": [
    {
     "name": "stdout",
     "output_type": "stream",
     "text": [
      "Number of balls picked in succession : 2\n",
      "Chances of to Pick Red Balls : 0.4\n",
      "Assumed Number of Trial is : 10000\n",
      "Number of 0 Red Balls, 1 Red Balls and 2 Red Balls are  {0: 3612, 1: 4748, 2: 1640}\n",
      "Probabaliits of 0 Red Balls = 0.3612\n",
      "Probabaliits of 1 Red Balls = 0.4748\n",
      "Probabaliits of 2 Red Balls = 0.164\n"
     ]
    },
    {
     "data": {
      "image/png": "[encoded data removed]",
      "text/plain": [
       "<Figure size 432x288 with 1 Axes>"
      ]
     },
     "metadata": {
      "needs_background": "light"
     },
     "output_type": "display_data"
    }
   ],
   "source": [
    "# Probabalitis distribution of Red Balls\n",
    "\n",
    "#Print the Paraneter passed to Binominal Random Function\n",
    "print('Number of balls picked in succession :',2)\n",
    "print('Chances of to Pick Red Balls :',4/10)\n",
    "print('Assumed Number of Trial is :' , 10000)\n",
    "\n",
    "#Call Binomial function and store the outcome of picking Red Balls\n",
    "trails = np.random.binomial(2,(4/10),10000)\n",
    "\n",
    "#Calcuate the probabalitis of picking Red Balls\n",
    "print('Number of 0 Red Balls, 1 Red Balls and 2 Red Balls are ',dict(zip((0,1,2), np.bincount(trails))))\n",
    "print('Probabaliits of 0 Red Balls =', list((dict(zip((0,1,2), np.bincount(trails)))).values())[0]/10000)\n",
    "print('Probabaliits of 1 Red Balls =', list((dict(zip((0,1,2), np.bincount(trails)))).values())[1]/10000)\n",
    "print('Probabaliits of 2 Red Balls =', list((dict(zip((0,1,2), np.bincount(trails)))).values())[2]/10000)\n",
    "\n",
    "#Show in the distibution using Histogram.\n",
    "plt.hist(trails)\n",
    "plt.title('Probabalities Distirbution of Red Balls')\n",
    "plt.xlabel('Possible event of picking Red Balls')\n",
    "plt.ylabel('Number of balls Picked in each Event')\n",
    "plt.show()"
   ]
  },
  {
   "cell_type": "code",
   "execution_count": 183,
   "metadata": {},
   "outputs": [
    {
     "name": "stdout",
     "output_type": "stream",
     "text": [
      "Number of balls picked in succession : 2\n",
      "Chances of to Pick Red Balls : 0.6\n",
      "Assumed Number of Trial is : 10000\n",
      "Number of 0 Red Balls, 1 Red Balls and 2 Red Balls are  {0: 1556, 1: 4803, 2: 3641}\n",
      "Probabaliits of 0 Black Balls = 0.1556\n",
      "Probabaliits of 1 Black Balls = 0.4803\n",
      "Probabaliits of 2 Black Balls = 0.3641\n"
     ]
    },
    {
     "data": {
      "image/png": "[encoded data removed]",
      "text/plain": [
       "<Figure size 432x288 with 1 Axes>"
      ]
     },
     "metadata": {
      "needs_background": "light"
     },
     "output_type": "display_data"
    }
   ],
   "source": [
    "#Probabalitis distribution of Black Balls\n",
    "\n",
    "#Print the Paraneter passed to Binominal Random Function\n",
    "print('Number of balls picked in succession :',2)\n",
    "print('Chances of to Pick Red Balls :',6/10)\n",
    "print('Assumed Number of Trial is :' , 10000)\n",
    "\n",
    "#Call binomial function and store the outcome of picking Black balls\n",
    "trails = np.random.binomial(2,(6/10),10000)\n",
    "\n",
    "#Print the probablalitis of picking Black Balls\n",
    "print('Number of 0 Red Balls, 1 Red Balls and 2 Red Balls are ',dict(zip((0,1,2), np.bincount(trails))))\n",
    "print('Probabaliits of 0 Black Balls =', list((dict(zip((0,1,2), np.bincount(trails)))).values())[0]/10000)\n",
    "print('Probabaliits of 1 Black Balls =', list((dict(zip((0,1,2), np.bincount(trails)))).values())[1]/10000)\n",
    "print('Probabaliits of 2 Black Balls =', list((dict(zip((0,1,2), np.bincount(trails)))).values())[2]/10000)\n",
    "\n",
    "#Show in the histogram to show distirbution of picking black balls\n",
    "plt.hist(trails)\n",
    "plt.title('Probabalities Distirbution of Black Balls')\n",
    "plt.xlabel('Possible event of picking Black Balls')\n",
    "plt.ylabel('Number of balls Picked in each Event')\n",
    "plt.show()"
   ]
  }
 ],
 "metadata": {
  "kernelspec": {
   "display_name": "Python 3",
   "language": "python",
   "name": "python3"
  },
  "language_info": {
   "codemirror_mode": {
    "name": "ipython",
    "version": 3
   },
   "file_extension": ".py",
   "mimetype": "text/x-python",
   "name": "python",
   "nbconvert_exporter": "python",
   "pygments_lexer": "ipython3",
   "version": "3.6.6"
  }
 },
 "nbformat": 4,
 "nbformat_minor": 2
}
